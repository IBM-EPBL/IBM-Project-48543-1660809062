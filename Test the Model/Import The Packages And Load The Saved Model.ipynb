{
 "cells": [
  {
   "cell_type": "code",
   "execution_count": 8,
   "id": "f8768daf",
   "metadata": {},
   "outputs": [
    {
     "name": "stdout",
     "output_type": "stream",
     "text": [
      "Requirement already satisfied: tensorflow==2.7.1 in c:\\users\\singa\\anaconda3\\lib\\site-packages (2.7.1)\n",
      "Requirement already satisfied: tensorflow-estimator<2.8,~=2.7.0rc0 in c:\\users\\singa\\anaconda3\\lib\\site-packages (from tensorflow==2.7.1) (2.7.0)\n",
      "Requirement already satisfied: absl-py>=0.4.0 in c:\\users\\singa\\anaconda3\\lib\\site-packages (from tensorflow==2.7.1) (1.3.0)\n",
      "Requirement already satisfied: flatbuffers<3.0,>=1.12 in c:\\users\\singa\\anaconda3\\lib\\site-packages (from tensorflow==2.7.1) (2.0.7)\n",
      "Requirement already satisfied: google-pasta>=0.1.1 in c:\\users\\singa\\anaconda3\\lib\\site-packages (from tensorflow==2.7.1) (0.2.0)\n",
      "Requirement already satisfied: h5py>=2.9.0 in c:\\users\\singa\\anaconda3\\lib\\site-packages (from tensorflow==2.7.1) (3.7.0)\n",
      "Requirement already satisfied: keras<2.8,>=2.7.0rc0 in c:\\users\\singa\\anaconda3\\lib\\site-packages (from tensorflow==2.7.1) (2.7.0)\n",
      "Requirement already satisfied: six>=1.12.0 in c:\\users\\singa\\anaconda3\\lib\\site-packages (from tensorflow==2.7.1) (1.16.0)\n",
      "Requirement already satisfied: libclang>=9.0.1 in c:\\users\\singa\\anaconda3\\lib\\site-packages (from tensorflow==2.7.1) (14.0.6)\n",
      "Requirement already satisfied: grpcio<2.0,>=1.24.3 in c:\\users\\singa\\anaconda3\\lib\\site-packages (from tensorflow==2.7.1) (1.50.0)\n",
      "Requirement already satisfied: opt-einsum>=2.3.2 in c:\\users\\singa\\anaconda3\\lib\\site-packages (from tensorflow==2.7.1) (3.3.0)\n",
      "Requirement already satisfied: typing-extensions>=3.6.6 in c:\\users\\singa\\anaconda3\\lib\\site-packages (from tensorflow==2.7.1) (4.3.0)\n",
      "Requirement already satisfied: wheel<1.0,>=0.32.0 in c:\\users\\singa\\anaconda3\\lib\\site-packages (from tensorflow==2.7.1) (0.37.1)\n",
      "Requirement already satisfied: astunparse>=1.6.0 in c:\\users\\singa\\anaconda3\\lib\\site-packages (from tensorflow==2.7.1) (1.6.3)\n",
      "Requirement already satisfied: termcolor>=1.1.0 in c:\\users\\singa\\anaconda3\\lib\\site-packages (from tensorflow==2.7.1) (2.1.0)\n",
      "Requirement already satisfied: numpy>=1.14.5 in c:\\users\\singa\\anaconda3\\lib\\site-packages (from tensorflow==2.7.1) (1.21.5)\n",
      "Requirement already satisfied: keras-preprocessing>=1.1.1 in c:\\users\\singa\\anaconda3\\lib\\site-packages (from tensorflow==2.7.1) (1.1.2)\n",
      "Requirement already satisfied: tensorboard~=2.6 in c:\\users\\singa\\anaconda3\\lib\\site-packages (from tensorflow==2.7.1) (2.10.1)\n",
      "Requirement already satisfied: wrapt>=1.11.0 in c:\\users\\singa\\anaconda3\\lib\\site-packages (from tensorflow==2.7.1) (1.14.1)\n",
      "Requirement already satisfied: protobuf>=3.9.2 in c:\\users\\singa\\anaconda3\\lib\\site-packages (from tensorflow==2.7.1) (3.19.6)\n",
      "Requirement already satisfied: gast<0.5.0,>=0.2.1 in c:\\users\\singa\\anaconda3\\lib\\site-packages (from tensorflow==2.7.1) (0.4.0)\n",
      "Requirement already satisfied: tensorflow-io-gcs-filesystem>=0.21.0 in c:\\users\\singa\\anaconda3\\lib\\site-packages (from tensorflow==2.7.1) (0.27.0)\n",
      "Requirement already satisfied: google-auth<3,>=1.6.3 in c:\\users\\singa\\anaconda3\\lib\\site-packages (from tensorboard~=2.6->tensorflow==2.7.1) (2.14.1)\n",
      "Requirement already satisfied: markdown>=2.6.8 in c:\\users\\singa\\anaconda3\\lib\\site-packages (from tensorboard~=2.6->tensorflow==2.7.1) (3.3.4)\n",
      "Requirement already satisfied: tensorboard-data-server<0.7.0,>=0.6.0 in c:\\users\\singa\\anaconda3\\lib\\site-packages (from tensorboard~=2.6->tensorflow==2.7.1) (0.6.1)\n",
      "Requirement already satisfied: werkzeug>=1.0.1 in c:\\users\\singa\\anaconda3\\lib\\site-packages (from tensorboard~=2.6->tensorflow==2.7.1) (2.0.3)\n",
      "Requirement already satisfied: requests<3,>=2.21.0 in c:\\users\\singa\\anaconda3\\lib\\site-packages (from tensorboard~=2.6->tensorflow==2.7.1) (2.28.1)\n",
      "Requirement already satisfied: google-auth-oauthlib<0.5,>=0.4.1 in c:\\users\\singa\\anaconda3\\lib\\site-packages (from tensorboard~=2.6->tensorflow==2.7.1) (0.4.6)\n",
      "Requirement already satisfied: tensorboard-plugin-wit>=1.6.0 in c:\\users\\singa\\anaconda3\\lib\\site-packages (from tensorboard~=2.6->tensorflow==2.7.1) (1.8.1)\n",
      "Requirement already satisfied: setuptools>=41.0.0 in c:\\users\\singa\\anaconda3\\lib\\site-packages (from tensorboard~=2.6->tensorflow==2.7.1) (63.4.1)\n",
      "Requirement already satisfied: pyasn1-modules>=0.2.1 in c:\\users\\singa\\anaconda3\\lib\\site-packages (from google-auth<3,>=1.6.3->tensorboard~=2.6->tensorflow==2.7.1) (0.2.8)\n",
      "Requirement already satisfied: rsa<5,>=3.1.4 in c:\\users\\singa\\anaconda3\\lib\\site-packages (from google-auth<3,>=1.6.3->tensorboard~=2.6->tensorflow==2.7.1) (4.9)\n",
      "Requirement already satisfied: cachetools<6.0,>=2.0.0 in c:\\users\\singa\\anaconda3\\lib\\site-packages (from google-auth<3,>=1.6.3->tensorboard~=2.6->tensorflow==2.7.1) (5.2.0)\n",
      "Requirement already satisfied: requests-oauthlib>=0.7.0 in c:\\users\\singa\\anaconda3\\lib\\site-packages (from google-auth-oauthlib<0.5,>=0.4.1->tensorboard~=2.6->tensorflow==2.7.1) (1.3.1)\n",
      "Requirement already satisfied: idna<4,>=2.5 in c:\\users\\singa\\anaconda3\\lib\\site-packages (from requests<3,>=2.21.0->tensorboard~=2.6->tensorflow==2.7.1) (3.3)\n",
      "Requirement already satisfied: charset-normalizer<3,>=2 in c:\\users\\singa\\anaconda3\\lib\\site-packages (from requests<3,>=2.21.0->tensorboard~=2.6->tensorflow==2.7.1) (2.0.4)\n",
      "Requirement already satisfied: urllib3<1.27,>=1.21.1 in c:\\users\\singa\\anaconda3\\lib\\site-packages (from requests<3,>=2.21.0->tensorboard~=2.6->tensorflow==2.7.1) (1.26.11)\n",
      "Requirement already satisfied: certifi>=2017.4.17 in c:\\users\\singa\\anaconda3\\lib\\site-packages (from requests<3,>=2.21.0->tensorboard~=2.6->tensorflow==2.7.1) (2022.9.14)\n",
      "Requirement already satisfied: pyasn1<0.5.0,>=0.4.6 in c:\\users\\singa\\anaconda3\\lib\\site-packages (from pyasn1-modules>=0.2.1->google-auth<3,>=1.6.3->tensorboard~=2.6->tensorflow==2.7.1) (0.4.8)\n",
      "Requirement already satisfied: oauthlib>=3.0.0 in c:\\users\\singa\\anaconda3\\lib\\site-packages (from requests-oauthlib>=0.7.0->google-auth-oauthlib<0.5,>=0.4.1->tensorboard~=2.6->tensorflow==2.7.1) (3.2.2)\n"
     ]
    }
   ],
   "source": [
    "!pip install tensorflow==2.7.1"
   ]
  },
  {
   "cell_type": "code",
   "execution_count": 9,
   "id": "bd21e4e1",
   "metadata": {},
   "outputs": [],
   "source": [
    "from tensorflow.keras.preprocessing.image import ImageDataGenerator"
   ]
  },
  {
   "cell_type": "code",
   "execution_count": 10,
   "id": "9fa5e9e3",
   "metadata": {},
   "outputs": [],
   "source": [
    "# Training Datagen\n",
    "train_datagen = ImageDataGenerator(rescale=1/255,zoom_range=0.2,horizontal_flip=True,vertical_flip=False)\n",
    "# Testing Datagen\n",
    "test_datagen = ImageDataGenerator(rescale=1/255)"
   ]
  },
  {
   "cell_type": "code",
   "execution_count": 11,
   "id": "75925b4c",
   "metadata": {},
   "outputs": [],
   "source": [
    "import tensorflow as tf\n",
    "import os\n",
    "from tensorflow.keras.models import Sequential\n",
    "from tensorflow.keras.layers import Dense, Conv2D, Flatten, Dropout, MaxPooling2D\n",
    "from tensorflow.keras.preprocessing.image import ImageDataGenerator\n",
    "import numpy as np\n",
    "import matplotlib.pyplot as plt\n",
    "import IPython.display as display\n",
    "from PIL import Image\n",
    "import pathlib"
   ]
  },
  {
   "cell_type": "markdown",
   "id": "7721c68b",
   "metadata": {},
   "source": [
    "# Apply ImageDataGenerator Functionality To Train And Test "
   ]
  },
  {
   "cell_type": "code",
   "execution_count": 1,
   "id": "253121d0",
   "metadata": {},
   "outputs": [
    {
     "name": "stdout",
     "output_type": "stream",
     "text": [
      "This dataset has been created and uploaded by IBM-TeamID-PNT2022TMID29575\n"
     ]
    }
   ],
   "source": [
    "from tensorflow.keras.preprocessing.image import ImageDataGenerator\n",
    "print(\"This dataset has been created and uploaded by IBM-TeamID-PNT2022TMID29575\")"
   ]
  },
  {
   "cell_type": "code",
   "execution_count": 2,
   "id": "ffcb39fa",
   "metadata": {},
   "outputs": [],
   "source": [
    "train_datagen = ImageDataGenerator(rescale=1./255,zoom_range=0.2,horizontal_flip=True, vertical_flip=False)"
   ]
  },
  {
   "cell_type": "code",
   "execution_count": 3,
   "id": "429bb7d3",
   "metadata": {},
   "outputs": [],
   "source": [
    "test_datagen= ImageDataGenerator(rescale=1./255)"
   ]
  },
  {
   "cell_type": "code",
   "execution_count": 7,
   "id": "781ff4d1",
   "metadata": {},
   "outputs": [
    {
     "name": "stdout",
     "output_type": "stream",
     "text": [
      "Found 15750 images belonging to 9 classes.\n"
     ]
    }
   ],
   "source": [
    "x_train = train_datagen.flow_from_directory(r'\\Users\\singa\\Desktop\\IBM AI project\\conversation engine for deaf and dumb\\Dataset\\training_set',target_size=(64,64), batch_size=300,\n",
    "                                          class_mode='categorical', color_mode = \"grayscale\")"
   ]
  },
  {
   "cell_type": "code",
   "execution_count": null,
   "id": "ee1ff9d6",
   "metadata": {},
   "outputs": [],
   "source": []
  },
  {
   "cell_type": "code",
   "execution_count": 8,
   "id": "917b12d2",
   "metadata": {},
   "outputs": [
    {
     "name": "stdout",
     "output_type": "stream",
     "text": [
      "Found 2250 images belonging to 9 classes.\n"
     ]
    }
   ],
   "source": [
    "x_test = test_datagen.flow_from_directory(r'\\Users\\singa\\Desktop\\IBM AI project\\conversation engine for deaf and dumb\\Dataset\\test_set',target_size=(64,64), batch_size=300,\n",
    "                                          class_mode='categorical', color_mode = \"grayscale\")"
   ]
  },
  {
   "cell_type": "code",
   "execution_count": 9,
   "id": "1dbbe880",
   "metadata": {},
   "outputs": [
    {
     "data": {
      "text/plain": [
       "{'A': 0, 'B': 1, 'C': 2, 'D': 3, 'E': 4, 'F': 5, 'G': 6, 'H': 7, 'I': 8}"
      ]
     },
     "execution_count": 9,
     "metadata": {},
     "output_type": "execute_result"
    }
   ],
   "source": [
    "x_train.class_indices"
   ]
  },
  {
   "cell_type": "code",
   "execution_count": 10,
   "id": "bb227edf",
   "metadata": {},
   "outputs": [
    {
     "data": {
      "text/plain": [
       "{'A': 0, 'B': 1, 'C': 2, 'D': 3, 'E': 4, 'F': 5, 'G': 6, 'H': 7, 'I': 8}"
      ]
     },
     "execution_count": 10,
     "metadata": {},
     "output_type": "execute_result"
    }
   ],
   "source": [
    "x_test.class_indices"
   ]
  },
  {
   "cell_type": "markdown",
   "id": "cd6fc455",
   "metadata": {},
   "source": [
    "# Model Building"
   ]
  },
  {
   "cell_type": "markdown",
   "id": "3bd3efc7",
   "metadata": {},
   "source": [
    "# Import The Required Model Building Libraries"
   ]
  },
  {
   "cell_type": "code",
   "execution_count": 12,
   "id": "b2f59238",
   "metadata": {},
   "outputs": [],
   "source": [
    "\n",
    "from keras.preprocessing.image import ImageDataGenerator"
   ]
  },
  {
   "cell_type": "code",
   "execution_count": 13,
   "id": "cb0358f0",
   "metadata": {},
   "outputs": [],
   "source": [
    "\n",
    "train_datagen=ImageDataGenerator(rescale=1./255,shear_range=0.2,zoom_range=0.2,horizontal_flip=True)"
   ]
  },
  {
   "cell_type": "code",
   "execution_count": 14,
   "id": "c796b85c",
   "metadata": {},
   "outputs": [],
   "source": [
    "test_datagen=ImageDataGenerator(rescale=1./255)"
   ]
  },
  {
   "cell_type": "markdown",
   "id": "301be100",
   "metadata": {},
   "source": [
    "IMPORTING tensorflow"
   ]
  },
  {
   "cell_type": "code",
   "execution_count": 15,
   "id": "4858b3ce",
   "metadata": {},
   "outputs": [],
   "source": [
    "import tensorflow as tf\n",
    "import os"
   ]
  },
  {
   "cell_type": "markdown",
   "id": "b52c9bda",
   "metadata": {},
   "source": [
    "# Initialize The Model"
   ]
  },
  {
   "cell_type": "code",
   "execution_count": 16,
   "id": "df8e0856",
   "metadata": {},
   "outputs": [],
   "source": [
    "from keras.models import Sequential\n",
    "from keras.layers import Dense\n",
    "from keras.layers import Convolution2D\n",
    "from keras.layers import MaxPooling2D\n",
    "from keras.layers import Dropout\n",
    "from keras.layers import Flatten \n",
    "from tensorflow.keras.preprocessing.image import ImageDataGenerator"
   ]
  },
  {
   "cell_type": "code",
   "execution_count": 17,
   "id": "064565c7",
   "metadata": {},
   "outputs": [],
   "source": [
    "import numpy as np\n",
    "import matplotlib.pyplot as plt #to view graph in colab itself\n",
    "import IPython.display as display\n",
    "from PIL import Image\n",
    "import pathlib"
   ]
  },
  {
   "cell_type": "markdown",
   "id": "2700b741",
   "metadata": {},
   "source": [
    "Applying ImageDataGenerator to training set\n",
    "\n"
   ]
  },
  {
   "cell_type": "code",
   "execution_count": 18,
   "id": "384d032d",
   "metadata": {},
   "outputs": [
    {
     "name": "stdout",
     "output_type": "stream",
     "text": [
      "Found 15750 images belonging to 9 classes.\n"
     ]
    }
   ],
   "source": [
    "x_train = train_datagen.flow_from_directory(r'\\Users\\singa\\Desktop\\IBM AI project\\conversation engine for deaf and dumb\\Dataset\\training_set',target_size=(64,64), batch_size=300,\n",
    "                                          class_mode='categorical', color_mode = \"grayscale\")"
   ]
  },
  {
   "cell_type": "markdown",
   "id": "953dc939",
   "metadata": {},
   "source": [
    "Applying ImageDataGenerator to test set"
   ]
  },
  {
   "cell_type": "code",
   "execution_count": null,
   "id": "311e1139",
   "metadata": {},
   "outputs": [],
   "source": [
    "x_test = test_datagen.flow_from_directory(r'\\Users\\singa\\Desktop\\IBM AI project\\conversation engine for deaf and dumb\\Dataset\\test_set',target_size=(64,64), batch_size=300,\n",
    "                                          class_mode='categorical', color_mode = \"grayscale\")"
   ]
  },
  {
   "cell_type": "code",
   "execution_count": 21,
   "id": "12e4f86a",
   "metadata": {},
   "outputs": [],
   "source": [
    "a=len(x_train)\n",
    "b=len(x_test)"
   ]
  },
  {
   "cell_type": "markdown",
   "id": "2a5bafa1",
   "metadata": {},
   "source": [
    "Length of training set"
   ]
  },
  {
   "cell_type": "code",
   "execution_count": 22,
   "id": "f9fcd839",
   "metadata": {},
   "outputs": [
    {
     "name": "stdout",
     "output_type": "stream",
     "text": [
      "53\n"
     ]
    }
   ],
   "source": [
    "print(a)"
   ]
  },
  {
   "cell_type": "markdown",
   "id": "b4219921",
   "metadata": {},
   "source": [
    "Length of test set"
   ]
  },
  {
   "cell_type": "code",
   "execution_count": 23,
   "id": "6cc8f557",
   "metadata": {},
   "outputs": [
    {
     "name": "stdout",
     "output_type": "stream",
     "text": [
      "8\n"
     ]
    }
   ],
   "source": [
    "print(b)"
   ]
  },
  {
   "cell_type": "markdown",
   "id": "1a0d0977",
   "metadata": {},
   "source": [
    "# Add layers"
   ]
  },
  {
   "cell_type": "code",
   "execution_count": 24,
   "id": "769e8f28",
   "metadata": {},
   "outputs": [],
   "source": [
    "model=Sequential()"
   ]
  },
  {
   "cell_type": "markdown",
   "id": "991f3a06",
   "metadata": {},
   "source": [
    "Add The Convolution Layer"
   ]
  },
  {
   "cell_type": "code",
   "execution_count": 25,
   "id": "8cf497fb",
   "metadata": {},
   "outputs": [],
   "source": [
    "model.add(Convolution2D(32,(3,3),input_shape=(64,64,1),activation='relu'))"
   ]
  },
  {
   "cell_type": "markdown",
   "id": "787aaf63",
   "metadata": {},
   "source": [
    "Add Pooling Layer"
   ]
  },
  {
   "cell_type": "code",
   "execution_count": 26,
   "id": "f9d4d3eb",
   "metadata": {},
   "outputs": [],
   "source": [
    "model.add(MaxPooling2D(pool_size=(2,2)))"
   ]
  },
  {
   "cell_type": "markdown",
   "id": "f188fd69",
   "metadata": {},
   "source": [
    "Add The Flatten Layer"
   ]
  },
  {
   "cell_type": "code",
   "execution_count": 27,
   "id": "6a395265",
   "metadata": {},
   "outputs": [],
   "source": [
    "model.add(Flatten())"
   ]
  },
  {
   "cell_type": "markdown",
   "id": "365b82c0",
   "metadata": {},
   "source": [
    "Adding The Dense Layers"
   ]
  },
  {
   "cell_type": "code",
   "execution_count": 28,
   "id": "faa705aa",
   "metadata": {},
   "outputs": [],
   "source": [
    "model.add(Dense(units=512,activation='relu'))\n",
    "model.add(Dense(units=261,activation='relu'))"
   ]
  },
  {
   "cell_type": "code",
   "execution_count": 29,
   "id": "8b0d944a",
   "metadata": {},
   "outputs": [],
   "source": [
    "model.add(Dense(units=9,activation='softmax'))"
   ]
  },
  {
   "cell_type": "markdown",
   "id": "36d1399d",
   "metadata": {},
   "source": [
    "Compile The Model\n",
    "\n"
   ]
  },
  {
   "cell_type": "code",
   "execution_count": 30,
   "id": "5ef4fe15",
   "metadata": {},
   "outputs": [],
   "source": [
    "model.compile(loss='categorical_crossentropy',optimizer='adam',metrics=['accuracy'])"
   ]
  },
  {
   "cell_type": "markdown",
   "id": "8bc98627",
   "metadata": {},
   "source": [
    "Fit The Model"
   ]
  },
  {
   "cell_type": "code",
   "execution_count": 31,
   "id": "daca9098",
   "metadata": {},
   "outputs": [
    {
     "name": "stderr",
     "output_type": "stream",
     "text": [
      "C:\\Users\\singa\\AppData\\Local\\Temp\\ipykernel_72356\\234118701.py:1: UserWarning: `Model.fit_generator` is deprecated and will be removed in a future version. Please use `Model.fit`, which supports generators.\n",
      "  model.fit_generator(x_train,steps_per_epoch=len(x_train),epochs=10,validation_data=x_test,validation_steps=len(x_test))\n"
     ]
    },
    {
     "name": "stdout",
     "output_type": "stream",
     "text": [
      "Epoch 1/10\n",
      "53/53 [==============================] - 225s 4s/step - loss: 0.5389 - accuracy: 0.8278 - val_loss: 0.2257 - val_accuracy: 0.9516\n",
      "Epoch 2/10\n",
      "53/53 [==============================] - 36s 674ms/step - loss: 0.0619 - accuracy: 0.9834 - val_loss: 0.2191 - val_accuracy: 0.9649\n",
      "Epoch 3/10\n",
      "53/53 [==============================] - 35s 653ms/step - loss: 0.0270 - accuracy: 0.9933 - val_loss: 0.1810 - val_accuracy: 0.9764\n",
      "Epoch 4/10\n",
      "53/53 [==============================] - 37s 692ms/step - loss: 0.0134 - accuracy: 0.9966 - val_loss: 0.2009 - val_accuracy: 0.9778\n",
      "Epoch 5/10\n",
      "53/53 [==============================] - 33s 618ms/step - loss: 0.0080 - accuracy: 0.9983 - val_loss: 0.1671 - val_accuracy: 0.9782\n",
      "Epoch 6/10\n",
      "53/53 [==============================] - 41s 784ms/step - loss: 0.0048 - accuracy: 0.9991 - val_loss: 0.1880 - val_accuracy: 0.9787\n",
      "Epoch 7/10\n",
      "53/53 [==============================] - 33s 623ms/step - loss: 0.0044 - accuracy: 0.9989 - val_loss: 0.2251 - val_accuracy: 0.9773\n",
      "Epoch 8/10\n",
      "53/53 [==============================] - 35s 659ms/step - loss: 0.0042 - accuracy: 0.9990 - val_loss: 0.1773 - val_accuracy: 0.9773\n",
      "Epoch 9/10\n",
      "53/53 [==============================] - 35s 660ms/step - loss: 0.0039 - accuracy: 0.9985 - val_loss: 0.1767 - val_accuracy: 0.9782\n",
      "Epoch 10/10\n",
      "53/53 [==============================] - 37s 690ms/step - loss: 0.0056 - accuracy: 0.9978 - val_loss: 0.1991 - val_accuracy: 0.9787\n"
     ]
    },
    {
     "data": {
      "text/plain": [
       "<keras.callbacks.History at 0x19054c10520>"
      ]
     },
     "execution_count": 31,
     "metadata": {},
     "output_type": "execute_result"
    }
   ],
   "source": [
    "model.fit_generator(x_train,steps_per_epoch=len(x_train),epochs=10,validation_data=x_test,validation_steps=len(x_test))"
   ]
  },
  {
   "cell_type": "markdown",
   "id": "c6d99d23",
   "metadata": {},
   "source": [
    "Save The Model"
   ]
  },
  {
   "cell_type": "code",
   "execution_count": 32,
   "id": "822a7ba3",
   "metadata": {},
   "outputs": [],
   "source": [
    "model.save('asl.h5')"
   ]
  },
  {
   "cell_type": "markdown",
   "id": "1f20c6b2",
   "metadata": {},
   "source": [
    "## Test the Model"
   ]
  },
  {
   "cell_type": "markdown",
   "id": "84e19f04",
   "metadata": {},
   "source": [
    "Import The Packages And Load The Saved Model"
   ]
  },
  {
   "cell_type": "code",
   "execution_count": 37,
   "id": "f205e7af",
   "metadata": {},
   "outputs": [
    {
     "name": "stdout",
     "output_type": "stream",
     "text": [
      "Collecting opencv-pythonNote: you may need to restart the kernel to use updated packages.\n",
      "\n",
      "  Downloading opencv_python-4.6.0.66-cp36-abi3-win_amd64.whl (35.6 MB)\n",
      "     ---------------------------------------- 35.6/35.6 MB 1.1 MB/s eta 0:00:00\n",
      "Requirement already satisfied: numpy>=1.14.5 in c:\\users\\singa\\anaconda3\\lib\\site-packages (from opencv-python) (1.21.5)\n",
      "Installing collected packages: opencv-python\n",
      "Successfully installed opencv-python-4.6.0.66\n"
     ]
    }
   ],
   "source": [
    "pip install opencv-python"
   ]
  },
  {
   "cell_type": "code",
   "execution_count": 38,
   "id": "21d6c4bb",
   "metadata": {},
   "outputs": [],
   "source": [
    "from tensorflow.keras.models import load_model\n",
    "import numpy as np\n",
    "import cv2\n",
    "from tensorflow.keras.preprocessing import image"
   ]
  },
  {
   "cell_type": "code",
   "execution_count": 39,
   "id": "2d49da61",
   "metadata": {},
   "outputs": [],
   "source": [
    "model=load_model('asl.h5')"
   ]
  },
  {
   "cell_type": "code",
   "execution_count": 42,
   "id": "06c41553",
   "metadata": {},
   "outputs": [
    {
     "data": {
      "image/png": "[encoded data removed]",
      "text/plain": [
       "<PIL.Image.Image image mode=RGB size=500x400>"
      ]
     },
     "execution_count": 42,
     "metadata": {},
     "output_type": "execute_result"
    }
   ],
   "source": [
    "img=image.load_img(r'\\Users\\singa\\Desktop\\IBM AI project\\conversation engine for deaf and dumb\\Dataset\\test_set/C/10.png',target_size=(400,500))\n",
    "img"
   ]
  },
  {
   "cell_type": "code",
   "execution_count": 44,
   "id": "905bba44",
   "metadata": {},
   "outputs": [
    {
     "data": {
      "image/png": "[encoded data removed]",
      "text/plain": [
       "<PIL.Image.Image image mode=RGB size=500x400>"
      ]
     },
     "execution_count": 44,
     "metadata": {},
     "output_type": "execute_result"
    }
   ],
   "source": [
    "img=image.load_img(r'\\Users\\singa\\Desktop\\IBM AI project\\conversation engine for deaf and dumb\\Dataset\\test_set/D/10.png',target_size=(400,500))\n",
    "img"
   ]
  },
  {
   "cell_type": "code",
   "execution_count": 45,
   "id": "3eba75a9",
   "metadata": {},
   "outputs": [
    {
     "data": {
      "image/png": "[encoded data removed]",
      "text/plain": [
       "<PIL.Image.Image image mode=RGB size=500x400>"
      ]
     },
     "execution_count": 45,
     "metadata": {},
     "output_type": "execute_result"
    }
   ],
   "source": [
    "img=image.load_img(r'\\Users\\singa\\Desktop\\IBM AI project\\conversation engine for deaf and dumb\\Dataset\\test_set/E/10.png',target_size=(400,500))\n",
    "img"
   ]
  }
 ],
 "metadata": {
  "kernelspec": {
   "display_name": "Python 3 (ipykernel)",
   "language": "python",
   "name": "python3"
  },
  "language_info": {
   "codemirror_mode": {
    "name": "ipython",
    "version": 3
   },
   "file_extension": ".py",
   "mimetype": "text/x-python",
   "name": "python",
   "nbconvert_exporter": "python",
   "pygments_lexer": "ipython3",
   "version": "3.9.13"
  }
 },
 "nbformat": 4,
 "nbformat_minor": 5
}
