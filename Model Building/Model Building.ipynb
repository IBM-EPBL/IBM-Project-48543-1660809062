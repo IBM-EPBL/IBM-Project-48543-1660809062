{
 "cells": [
  {
   "cell_type": "markdown",
   "id": "d798c33b",
   "metadata": {},
   "source": [
    "# IBM Project Name: Real-Time Communication System Powered by AI for Specially Abled"
   ]
  },
  {
   "cell_type": "markdown",
   "id": "5670ac0a",
   "metadata": {},
   "source": [
    "# TEAM ID: PNT2022TMID29575"
   ]
  },
  {
   "cell_type": "markdown",
   "id": "e0edd30c",
   "metadata": {},
   "source": [
    "# Model Building \n",
    "Adding layers <br>\n",
    "1.Initialized the model<br>\n",
    "2.Imported the required models<br>\n",
    "3.Adding the Convolution layer<br>\n",
    "4.Adding the pooling layer<br>\n",
    "5.Adding the dense layer<br>\n",
    "6.Fit and Save the model<br>\n",
    "7.Compile the model"
   ]
  },
  {
   "cell_type": "code",
   "execution_count": 31,
   "id": "286627ab",
   "metadata": {},
   "outputs": [],
   "source": [
    "import os\n",
    "from tensorflow.keras.preprocessing.image import ImageDataGenerator"
   ]
  },
  {
   "cell_type": "code",
   "execution_count": 32,
   "id": "e3717480",
   "metadata": {},
   "outputs": [],
   "source": [
    "import numpy as np\n",
    "import matplotlib.pyplot as plt"
   ]
  },
  {
   "cell_type": "code",
   "execution_count": 33,
   "id": "28434d0b",
   "metadata": {},
   "outputs": [],
   "source": [
    "train_datagen = ImageDataGenerator(rescale=1/255,zoom_range=0.2,horizontal_flip=True,vertical_flip=False)\n",
    "test_datagen = ImageDataGenerator(rescale=1/255)"
   ]
  },
  {
   "cell_type": "code",
   "execution_count": 34,
   "id": "55a780ce",
   "metadata": {},
   "outputs": [
    {
     "name": "stdout",
     "output_type": "stream",
     "text": [
      "Found 15750 images belonging to 9 classes.\n",
      "Found 2250 images belonging to 9 classes.\n"
     ]
    }
   ],
   "source": [
    "x_train=train_datagen.flow_from_directory(r'C:\\Users\\shame\\OneDrive\\Desktop\\IBM Assignment\\conversation engine for deaf and dumb\\Dataset\\training_set',target_size=(64,64), class_mode='categorical',batch_size=900)\n",
    "x_test=test_datagen.flow_from_directory(r'C:\\Users\\shame\\OneDrive\\Desktop\\IBM Assignment\\conversation engine for deaf and dumb\\Dataset\\test_set',target_size=(64,64), class_mode='categorical',batch_size=900)\n"
   ]
  },
  {
   "cell_type": "code",
   "execution_count": 35,
   "id": "e34a3c42",
   "metadata": {},
   "outputs": [
    {
     "name": "stdout",
     "output_type": "stream",
     "text": [
      "Len x-train :  18\n",
      "Len x-test :  3\n"
     ]
    }
   ],
   "source": [
    "print(\"Len x-train : \", len(x_train))\n",
    "print(\"Len x-test : \", len(x_test))"
   ]
  },
  {
   "cell_type": "code",
   "execution_count": 36,
   "id": "d5a180ce",
   "metadata": {},
   "outputs": [
    {
     "data": {
      "text/plain": [
       "{'A': 0, 'B': 1, 'C': 2, 'D': 3, 'E': 4, 'F': 5, 'G': 6, 'H': 7, 'I': 8}"
      ]
     },
     "execution_count": 36,
     "metadata": {},
     "output_type": "execute_result"
    }
   ],
   "source": [
    "x_train.class_indices"
   ]
  },
  {
   "cell_type": "code",
   "execution_count": 37,
   "id": "dc5a72e1",
   "metadata": {},
   "outputs": [],
   "source": [
    "#Libraries importation\n",
    "from tensorflow.keras.models import Sequential\n",
    "from tensorflow.keras.layers import Convolution2D,MaxPooling2D,Flatten,Dense"
   ]
  },
  {
   "cell_type": "code",
   "execution_count": 38,
   "id": "99f53724",
   "metadata": {},
   "outputs": [],
   "source": [
    "#Creation of model\n",
    "model=Sequential()"
   ]
  },
  {
   "cell_type": "code",
   "execution_count": 39,
   "id": "cbedcf80",
   "metadata": {},
   "outputs": [],
   "source": [
    "model.add(Convolution2D(32,(3,3),activation='relu',input_shape=(64,64,3)))\n",
    "model.add(MaxPooling2D(pool_size=(2,2)))\n",
    "model.add(Flatten())\n",
    "\n",
    "#Hidden layers\n",
    "model.add(Dense(300,activation='relu'))\n",
    "model.add(Dense(150,activation='relu'))\n",
    "\n",
    "#output layer\n",
    "model.add(Dense(9,activation='softmax'))"
   ]
  },
  {
   "cell_type": "code",
   "execution_count": 40,
   "id": "63c08e32",
   "metadata": {},
   "outputs": [],
   "source": [
    "model.compile(loss='categorical_crossentropy',optimizer='adam',metrics=['accuracy'])"
   ]
  },
  {
   "cell_type": "code",
   "execution_count": 41,
   "id": "2ad1f974",
   "metadata": {},
   "outputs": [
    {
     "name": "stderr",
     "output_type": "stream",
     "text": [
      "C:\\Users\\shame\\AppData\\Local\\Temp\\ipykernel_15164\\234118701.py:1: UserWarning: `Model.fit_generator` is deprecated and will be removed in a future version. Please use `Model.fit`, which supports generators.\n",
      "  model.fit_generator(x_train,steps_per_epoch=len(x_train),epochs=10,validation_data=x_test,validation_steps=len(x_test))\n"
     ]
    },
    {
     "name": "stdout",
     "output_type": "stream",
     "text": [
      "Epoch 1/10\n",
      "18/18 [==============================] - 219s 13s/step - loss: 0.9907 - accuracy: 0.6766 - val_loss: 0.3452 - val_accuracy: 0.9129\n",
      "Epoch 2/10\n",
      "18/18 [==============================] - 112s 6s/step - loss: 0.2003 - accuracy: 0.9434 - val_loss: 0.3054 - val_accuracy: 0.9418\n",
      "Epoch 3/10\n",
      "18/18 [==============================] - 42s 2s/step - loss: 0.0817 - accuracy: 0.9771 - val_loss: 0.2714 - val_accuracy: 0.9649\n",
      "Epoch 4/10\n",
      "18/18 [==============================] - 34s 2s/step - loss: 0.0425 - accuracy: 0.9891 - val_loss: 0.2810 - val_accuracy: 0.9769\n",
      "Epoch 5/10\n",
      "18/18 [==============================] - 43s 2s/step - loss: 0.0249 - accuracy: 0.9940 - val_loss: 0.2988 - val_accuracy: 0.9756\n",
      "Epoch 6/10\n",
      "18/18 [==============================] - 33s 2s/step - loss: 0.0157 - accuracy: 0.9963 - val_loss: 0.3320 - val_accuracy: 0.9778\n",
      "Epoch 7/10\n",
      "18/18 [==============================] - 34s 2s/step - loss: 0.0102 - accuracy: 0.9981 - val_loss: 0.2922 - val_accuracy: 0.9742\n",
      "Epoch 8/10\n",
      "18/18 [==============================] - 46s 3s/step - loss: 0.0089 - accuracy: 0.9984 - val_loss: 0.3136 - val_accuracy: 0.9769\n",
      "Epoch 9/10\n",
      "18/18 [==============================] - 37s 2s/step - loss: 0.0064 - accuracy: 0.9989 - val_loss: 0.3540 - val_accuracy: 0.9778\n",
      "Epoch 10/10\n",
      "18/18 [==============================] - 38s 2s/step - loss: 0.0045 - accuracy: 0.9993 - val_loss: 0.3466 - val_accuracy: 0.9764\n"
     ]
    },
    {
     "data": {
      "text/plain": [
       "<keras.callbacks.History at 0x233876613d0>"
      ]
     },
     "execution_count": 41,
     "metadata": {},
     "output_type": "execute_result"
    }
   ],
   "source": [
    "model.fit_generator(x_train,steps_per_epoch=len(x_train),epochs=10,validation_data=x_test,validation_steps=len(x_test))"
   ]
  },
  {
   "cell_type": "code",
   "execution_count": 42,
   "id": "c88ba6c7",
   "metadata": {},
   "outputs": [],
   "source": [
    "model.save('mass.h5')"
   ]
  },
  {
   "cell_type": "code",
   "execution_count": null,
   "id": "e37f6fe8",
   "metadata": {},
   "outputs": [],
   "source": []
  }
 ],
 "metadata": {
  "kernelspec": {
   "display_name": "Python 3 (ipykernel)",
   "language": "python",
   "name": "python3"
  },
  "language_info": {
   "codemirror_mode": {
    "name": "ipython",
    "version": 3
   },
   "file_extension": ".py",
   "mimetype": "text/x-python",
   "name": "python",
   "nbconvert_exporter": "python",
   "pygments_lexer": "ipython3",
   "version": "3.9.12"
  }
 },
 "nbformat": 4,
 "nbformat_minor": 5
}
