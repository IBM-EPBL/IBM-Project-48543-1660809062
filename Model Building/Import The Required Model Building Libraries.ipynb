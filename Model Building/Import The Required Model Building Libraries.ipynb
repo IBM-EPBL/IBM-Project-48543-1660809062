{
 "cells": [
  {
   "cell_type": "code",
   "execution_count": 8,
   "id": "f8768daf",
   "metadata": {},
   "outputs": [
    {
     "name": "stdout",
     "output_type": "stream",
     "text": [
      "Requirement already satisfied: tensorflow==2.7.1 in c:\\users\\singa\\anaconda3\\lib\\site-packages (2.7.1)\n",
      "Requirement already satisfied: tensorflow-estimator<2.8,~=2.7.0rc0 in c:\\users\\singa\\anaconda3\\lib\\site-packages (from tensorflow==2.7.1) (2.7.0)\n",
      "Requirement already satisfied: absl-py>=0.4.0 in c:\\users\\singa\\anaconda3\\lib\\site-packages (from tensorflow==2.7.1) (1.3.0)\n",
      "Requirement already satisfied: flatbuffers<3.0,>=1.12 in c:\\users\\singa\\anaconda3\\lib\\site-packages (from tensorflow==2.7.1) (2.0.7)\n",
      "Requirement already satisfied: google-pasta>=0.1.1 in c:\\users\\singa\\anaconda3\\lib\\site-packages (from tensorflow==2.7.1) (0.2.0)\n",
      "Requirement already satisfied: h5py>=2.9.0 in c:\\users\\singa\\anaconda3\\lib\\site-packages (from tensorflow==2.7.1) (3.7.0)\n",
      "Requirement already satisfied: keras<2.8,>=2.7.0rc0 in c:\\users\\singa\\anaconda3\\lib\\site-packages (from tensorflow==2.7.1) (2.7.0)\n",
      "Requirement already satisfied: six>=1.12.0 in c:\\users\\singa\\anaconda3\\lib\\site-packages (from tensorflow==2.7.1) (1.16.0)\n",
      "Requirement already satisfied: libclang>=9.0.1 in c:\\users\\singa\\anaconda3\\lib\\site-packages (from tensorflow==2.7.1) (14.0.6)\n",
      "Requirement already satisfied: grpcio<2.0,>=1.24.3 in c:\\users\\singa\\anaconda3\\lib\\site-packages (from tensorflow==2.7.1) (1.50.0)\n",
      "Requirement already satisfied: opt-einsum>=2.3.2 in c:\\users\\singa\\anaconda3\\lib\\site-packages (from tensorflow==2.7.1) (3.3.0)\n",
      "Requirement already satisfied: typing-extensions>=3.6.6 in c:\\users\\singa\\anaconda3\\lib\\site-packages (from tensorflow==2.7.1) (4.3.0)\n",
      "Requirement already satisfied: wheel<1.0,>=0.32.0 in c:\\users\\singa\\anaconda3\\lib\\site-packages (from tensorflow==2.7.1) (0.37.1)\n",
      "Requirement already satisfied: astunparse>=1.6.0 in c:\\users\\singa\\anaconda3\\lib\\site-packages (from tensorflow==2.7.1) (1.6.3)\n",
      "Requirement already satisfied: termcolor>=1.1.0 in c:\\users\\singa\\anaconda3\\lib\\site-packages (from tensorflow==2.7.1) (2.1.0)\n",
      "Requirement already satisfied: numpy>=1.14.5 in c:\\users\\singa\\anaconda3\\lib\\site-packages (from tensorflow==2.7.1) (1.21.5)\n",
      "Requirement already satisfied: keras-preprocessing>=1.1.1 in c:\\users\\singa\\anaconda3\\lib\\site-packages (from tensorflow==2.7.1) (1.1.2)\n",
      "Requirement already satisfied: tensorboard~=2.6 in c:\\users\\singa\\anaconda3\\lib\\site-packages (from tensorflow==2.7.1) (2.10.1)\n",
      "Requirement already satisfied: wrapt>=1.11.0 in c:\\users\\singa\\anaconda3\\lib\\site-packages (from tensorflow==2.7.1) (1.14.1)\n",
      "Requirement already satisfied: protobuf>=3.9.2 in c:\\users\\singa\\anaconda3\\lib\\site-packages (from tensorflow==2.7.1) (3.19.6)\n",
      "Requirement already satisfied: gast<0.5.0,>=0.2.1 in c:\\users\\singa\\anaconda3\\lib\\site-packages (from tensorflow==2.7.1) (0.4.0)\n",
      "Requirement already satisfied: tensorflow-io-gcs-filesystem>=0.21.0 in c:\\users\\singa\\anaconda3\\lib\\site-packages (from tensorflow==2.7.1) (0.27.0)\n",
      "Requirement already satisfied: google-auth<3,>=1.6.3 in c:\\users\\singa\\anaconda3\\lib\\site-packages (from tensorboard~=2.6->tensorflow==2.7.1) (2.14.1)\n",
      "Requirement already satisfied: markdown>=2.6.8 in c:\\users\\singa\\anaconda3\\lib\\site-packages (from tensorboard~=2.6->tensorflow==2.7.1) (3.3.4)\n",
      "Requirement already satisfied: tensorboard-data-server<0.7.0,>=0.6.0 in c:\\users\\singa\\anaconda3\\lib\\site-packages (from tensorboard~=2.6->tensorflow==2.7.1) (0.6.1)\n",
      "Requirement already satisfied: werkzeug>=1.0.1 in c:\\users\\singa\\anaconda3\\lib\\site-packages (from tensorboard~=2.6->tensorflow==2.7.1) (2.0.3)\n",
      "Requirement already satisfied: requests<3,>=2.21.0 in c:\\users\\singa\\anaconda3\\lib\\site-packages (from tensorboard~=2.6->tensorflow==2.7.1) (2.28.1)\n",
      "Requirement already satisfied: google-auth-oauthlib<0.5,>=0.4.1 in c:\\users\\singa\\anaconda3\\lib\\site-packages (from tensorboard~=2.6->tensorflow==2.7.1) (0.4.6)\n",
      "Requirement already satisfied: tensorboard-plugin-wit>=1.6.0 in c:\\users\\singa\\anaconda3\\lib\\site-packages (from tensorboard~=2.6->tensorflow==2.7.1) (1.8.1)\n",
      "Requirement already satisfied: setuptools>=41.0.0 in c:\\users\\singa\\anaconda3\\lib\\site-packages (from tensorboard~=2.6->tensorflow==2.7.1) (63.4.1)\n",
      "Requirement already satisfied: pyasn1-modules>=0.2.1 in c:\\users\\singa\\anaconda3\\lib\\site-packages (from google-auth<3,>=1.6.3->tensorboard~=2.6->tensorflow==2.7.1) (0.2.8)\n",
      "Requirement already satisfied: rsa<5,>=3.1.4 in c:\\users\\singa\\anaconda3\\lib\\site-packages (from google-auth<3,>=1.6.3->tensorboard~=2.6->tensorflow==2.7.1) (4.9)\n",
      "Requirement already satisfied: cachetools<6.0,>=2.0.0 in c:\\users\\singa\\anaconda3\\lib\\site-packages (from google-auth<3,>=1.6.3->tensorboard~=2.6->tensorflow==2.7.1) (5.2.0)\n",
      "Requirement already satisfied: requests-oauthlib>=0.7.0 in c:\\users\\singa\\anaconda3\\lib\\site-packages (from google-auth-oauthlib<0.5,>=0.4.1->tensorboard~=2.6->tensorflow==2.7.1) (1.3.1)\n",
      "Requirement already satisfied: idna<4,>=2.5 in c:\\users\\singa\\anaconda3\\lib\\site-packages (from requests<3,>=2.21.0->tensorboard~=2.6->tensorflow==2.7.1) (3.3)\n",
      "Requirement already satisfied: charset-normalizer<3,>=2 in c:\\users\\singa\\anaconda3\\lib\\site-packages (from requests<3,>=2.21.0->tensorboard~=2.6->tensorflow==2.7.1) (2.0.4)\n",
      "Requirement already satisfied: urllib3<1.27,>=1.21.1 in c:\\users\\singa\\anaconda3\\lib\\site-packages (from requests<3,>=2.21.0->tensorboard~=2.6->tensorflow==2.7.1) (1.26.11)\n",
      "Requirement already satisfied: certifi>=2017.4.17 in c:\\users\\singa\\anaconda3\\lib\\site-packages (from requests<3,>=2.21.0->tensorboard~=2.6->tensorflow==2.7.1) (2022.9.14)\n",
      "Requirement already satisfied: pyasn1<0.5.0,>=0.4.6 in c:\\users\\singa\\anaconda3\\lib\\site-packages (from pyasn1-modules>=0.2.1->google-auth<3,>=1.6.3->tensorboard~=2.6->tensorflow==2.7.1) (0.4.8)\n",
      "Requirement already satisfied: oauthlib>=3.0.0 in c:\\users\\singa\\anaconda3\\lib\\site-packages (from requests-oauthlib>=0.7.0->google-auth-oauthlib<0.5,>=0.4.1->tensorboard~=2.6->tensorflow==2.7.1) (3.2.2)\n"
     ]
    }
   ],
   "source": [
    "!pip install tensorflow==2.7.1"
   ]
  },
  {
   "cell_type": "code",
   "execution_count": 9,
   "id": "bd21e4e1",
   "metadata": {},
   "outputs": [],
   "source": [
    "from tensorflow.keras.preprocessing.image import ImageDataGenerator"
   ]
  },
  {
   "cell_type": "code",
   "execution_count": 10,
   "id": "9fa5e9e3",
   "metadata": {},
   "outputs": [],
   "source": [
    "# Training Datagen\n",
    "train_datagen = ImageDataGenerator(rescale=1/255,zoom_range=0.2,horizontal_flip=True,vertical_flip=False)\n",
    "# Testing Datagen\n",
    "test_datagen = ImageDataGenerator(rescale=1/255)"
   ]
  },
  {
   "cell_type": "code",
   "execution_count": 11,
   "id": "75925b4c",
   "metadata": {},
   "outputs": [],
   "source": [
    "import tensorflow as tf\n",
    "import os\n",
    "from tensorflow.keras.models import Sequential\n",
    "from tensorflow.keras.layers import Dense, Conv2D, Flatten, Dropout, MaxPooling2D\n",
    "from tensorflow.keras.preprocessing.image import ImageDataGenerator\n",
    "import numpy as np\n",
    "import matplotlib.pyplot as plt\n",
    "import IPython.display as display\n",
    "from PIL import Image\n",
    "import pathlib"
   ]
  },
  {
   "cell_type": "markdown",
   "id": "f49117ab",
   "metadata": {},
   "source": [
    "# Apply ImageDataGenerator Functionality To Train And Test "
   ]
  },
  {
   "cell_type": "code",
   "execution_count": 1,
   "id": "11450927",
   "metadata": {},
   "outputs": [
    {
     "name": "stdout",
     "output_type": "stream",
     "text": [
      "This dataset has been created and uploaded by IBM-TeamID-PNT2022TMID29575\n"
     ]
    }
   ],
   "source": [
    "from tensorflow.keras.preprocessing.image import ImageDataGenerator\n",
    "print(\"This dataset has been created and uploaded by IBM-TeamID-PNT2022TMID29575\")"
   ]
  },
  {
   "cell_type": "code",
   "execution_count": 2,
   "id": "6134f5d5",
   "metadata": {},
   "outputs": [],
   "source": [
    "train_datagen = ImageDataGenerator(rescale=1./255,zoom_range=0.2,horizontal_flip=True, vertical_flip=False)"
   ]
  },
  {
   "cell_type": "code",
   "execution_count": 3,
   "id": "ff399897",
   "metadata": {},
   "outputs": [],
   "source": [
    "test_datagen= ImageDataGenerator(rescale=1./255)"
   ]
  },
  {
   "cell_type": "code",
   "execution_count": 7,
   "id": "6a00699f",
   "metadata": {},
   "outputs": [
    {
     "name": "stdout",
     "output_type": "stream",
     "text": [
      "Found 15750 images belonging to 9 classes.\n"
     ]
    }
   ],
   "source": [
    "x_train = train_datagen.flow_from_directory(r'\\Users\\singa\\Desktop\\IBM AI project\\conversation engine for deaf and dumb\\Dataset\\training_set',target_size=(64,64), batch_size=300,\n",
    "                                          class_mode='categorical', color_mode = \"grayscale\")"
   ]
  },
  {
   "cell_type": "code",
   "execution_count": 8,
   "id": "f07ecea5",
   "metadata": {},
   "outputs": [
    {
     "name": "stdout",
     "output_type": "stream",
     "text": [
      "Found 2250 images belonging to 9 classes.\n"
     ]
    }
   ],
   "source": [
    "x_test = test_datagen.flow_from_directory(r'\\Users\\singa\\Desktop\\IBM AI project\\conversation engine for deaf and dumb\\Dataset\\test_set',target_size=(64,64), batch_size=300,\n",
    "                                          class_mode='categorical', color_mode = \"grayscale\")"
   ]
  },
  {
   "cell_type": "code",
   "execution_count": 9,
   "id": "03070b33",
   "metadata": {},
   "outputs": [
    {
     "data": {
      "text/plain": [
       "{'A': 0, 'B': 1, 'C': 2, 'D': 3, 'E': 4, 'F': 5, 'G': 6, 'H': 7, 'I': 8}"
      ]
     },
     "execution_count": 9,
     "metadata": {},
     "output_type": "execute_result"
    }
   ],
   "source": [
    "x_train.class_indices"
   ]
  },
  {
   "cell_type": "code",
   "execution_count": 10,
   "id": "3e022985",
   "metadata": {},
   "outputs": [
    {
     "data": {
      "text/plain": [
       "{'A': 0, 'B': 1, 'C': 2, 'D': 3, 'E': 4, 'F': 5, 'G': 6, 'H': 7, 'I': 8}"
      ]
     },
     "execution_count": 10,
     "metadata": {},
     "output_type": "execute_result"
    }
   ],
   "source": [
    "x_test.class_indices"
   ]
  },
  {
   "cell_type": "markdown",
   "id": "b271eb33",
   "metadata": {},
   "source": [
    "# Model Building"
   ]
  },
  {
   "cell_type": "markdown",
   "id": "eea3b4ca",
   "metadata": {},
   "source": [
    "# Import The Required Model Building Libraries"
   ]
  },
  {
   "cell_type": "code",
   "execution_count": 12,
   "id": "137bbaee",
   "metadata": {},
   "outputs": [],
   "source": [
    "\n",
    "from keras.preprocessing.image import ImageDataGenerator"
   ]
  },
  {
   "cell_type": "code",
   "execution_count": 13,
   "id": "963e7a3b",
   "metadata": {},
   "outputs": [],
   "source": [
    "\n",
    "train_datagen=ImageDataGenerator(rescale=1./255,shear_range=0.2,zoom_range=0.2,horizontal_flip=True)"
   ]
  },
  {
   "cell_type": "code",
   "execution_count": 14,
   "id": "a90abf5a",
   "metadata": {},
   "outputs": [],
   "source": [
    "test_datagen=ImageDataGenerator(rescale=1./255)"
   ]
  },
  {
   "cell_type": "markdown",
   "id": "42ee6782",
   "metadata": {},
   "source": [
    "IMPORTING tensorflow"
   ]
  },
  {
   "cell_type": "code",
   "execution_count": 15,
   "id": "40e2dd13",
   "metadata": {},
   "outputs": [],
   "source": [
    "import tensorflow as tf\n",
    "import os"
   ]
  },
  {
   "cell_type": "code",
   "execution_count": null,
   "id": "585d0d20",
   "metadata": {},
   "outputs": [],
   "source": []
  }
 ],
 "metadata": {
  "kernelspec": {
   "display_name": "Python 3 (ipykernel)",
   "language": "python",
   "name": "python3"
  },
  "language_info": {
   "codemirror_mode": {
    "name": "ipython",
    "version": 3
   },
   "file_extension": ".py",
   "mimetype": "text/x-python",
   "name": "python",
   "nbconvert_exporter": "python",
   "pygments_lexer": "ipython3",
   "version": "3.9.13"
  }
 },
 "nbformat": 4,
 "nbformat_minor": 5
}
